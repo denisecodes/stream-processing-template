{
 "cells": [
  {
   "cell_type": "code",
   "execution_count": 6,
   "metadata": {},
   "outputs": [],
   "source": [
    "from confluent_kafka import Producer\n",
    "\n",
    "conf = {\n",
    "    'bootstrap.servers': 'b-1.monstercluster1.6xql65.c3.kafka.eu-west-2.amazonaws.com:9092',  # This is the address of your Kafka broker(s)\n",
    "    'client.id': 'retail_store_producer',\n",
    "    'error_cb': lambda err: print(f\"Error: {err}\"),  # Error callback function\n",
    "    'retries': 5,  # Number of retries\n",
    "    'retry.backoff.ms': 1000  # Wait time between retries in milliseconds\n",
    "}\n",
    "producer = Producer(conf)"
   ]
  },
  {
   "cell_type": "code",
   "execution_count": 7,
   "metadata": {},
   "outputs": [
    {
     "data": {
      "text/plain": [
       "0"
      ]
     },
     "execution_count": 7,
     "metadata": {},
     "output_type": "execute_result"
    }
   ],
   "source": [
    "transaction_data = {\n",
    "    'product_name': 'rocket_ship',\n",
    "    'category': 'toy',\n",
    "    'amount': 10\n",
    "}\n",
    "\n",
    "# Convert the data to string format; often JSON is used\n",
    "import json\n",
    "transaction_string = json.dumps(transaction_data)\n",
    "\n",
    "# Write to the 'retail_products' topic (ledger)\n",
    "producer.produce('retail_products', transaction_string)\n",
    "\n",
    "# Poll the producer for events, including delivery reports\n",
    "# This is important for the delivery callback to be triggered\n",
    "producer.poll(0)\n",
    "\n",
    "# Ensure the data is sent\n",
    "producer.flush()"
   ]
  },
  {
   "cell_type": "markdown",
   "metadata": {},
   "source": [
    "0 means the message wasn't written."
   ]
  },
  {
   "cell_type": "code",
   "execution_count": 8,
   "metadata": {},
   "outputs": [
    {
     "name": "stdout",
     "output_type": "stream",
     "text": [
      "Message delivery failed: KafkaError{code=NOT_ENOUGH_REPLICAS,val=19,str=\"Broker: Not enough in-sync replicas\"}\n"
     ]
    },
    {
     "data": {
      "text/plain": [
       "0"
      ]
     },
     "execution_count": 8,
     "metadata": {},
     "output_type": "execute_result"
    }
   ],
   "source": [
    "def delivery_report(err, msg):\n",
    "    if err is not None:\n",
    "        print('Message delivery failed: {}'.format(err))\n",
    "    else:\n",
    "        print('Message delivered to {} [{}]'.format(msg.topic(), msg.partition()))\n",
    "\n",
    "# Use the callback when producing a message\n",
    "producer.produce('retail_products', transaction_string, callback=delivery_report)\n",
    "producer.flush()"
   ]
  },
  {
   "cell_type": "code",
   "execution_count": 5,
   "metadata": {},
   "outputs": [],
   "source": [
    "from confluent_kafka import Consumer, KafkaError\n",
    "\n",
    "PERSONAL_ID = input(\"Enter your name or id:\" ) # To ensure all users read the entire topic\n",
    "\n",
    "conf = {\n",
    "    'bootstrap.servers': 'b-1.monstercluster1.6xql65.c3.kafka.eu-west-2.amazonaws.com:9092',  # Address of your Kafka broker(s)\n",
    "    'group.id': f'retail_store_group_{PERSONAL_ID}',\n",
    "    'auto.offset.reset': 'earliest'  # Start reading from the beginning of the topic\n",
    "}\n",
    "\n",
    "consumer = Consumer(conf)\n",
    "consumer.subscribe(['retail_products'])"
   ]
  },
  {
   "cell_type": "code",
   "execution_count": null,
   "metadata": {},
   "outputs": [
    {
     "name": "stderr",
     "output_type": "stream",
     "text": [
      "%4|1702653105.139|MAXPOLL|rdkafka#consumer-1| [thrd:main]: Application maximum poll interval (300000ms) exceeded by 494ms (adjust max.poll.interval.ms for long-running message processing): leaving group\n"
     ]
    }
   ],
   "source": [
    "while True:\n",
    "    msg = consumer.poll(1.0)\n",
    "    if msg is None:\n",
    "        continue\n",
    "    if msg.error():\n",
    "        if msg.error().code() == KafkaError._PARTITION_EOF:\n",
    "            continue\n",
    "        else:\n",
    "            print(msg.error())\n",
    "            break\n",
    "\n",
    "    print('Received message: {}'.format(msg.value().decode('utf-8')))\n",
    "\n",
    "def shutdown():\n",
    "    consumer.close()\n",
    "\n",
    "import atexit\n",
    "atexit.register(shutdown)"
   ]
  }
 ],
 "metadata": {
  "kernelspec": {
   "display_name": "Python 3",
   "language": "python",
   "name": "python3"
  },
  "language_info": {
   "codemirror_mode": {
    "name": "ipython",
    "version": 3
   },
   "file_extension": ".py",
   "mimetype": "text/x-python",
   "name": "python",
   "nbconvert_exporter": "python",
   "pygments_lexer": "ipython3",
   "version": "3.7.16"
  }
 },
 "nbformat": 4,
 "nbformat_minor": 2
}
