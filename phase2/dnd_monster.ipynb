{
 "cells": [
  {
   "cell_type": "code",
   "execution_count": 2,
   "metadata": {},
   "outputs": [
    {
     "name": "stderr",
     "output_type": "stream",
     "text": [
      "%5|1702552906.390|REQTMOUT|rdkafka#consumer-2| [thrd:GroupCoordinator]: GroupCoordinator/3: Timed out LeaveGroupRequest in flight (after 5004ms, timeout #0): possibly held back by preceeding blocking JoinGroupRequest with timeout in 297004ms\n",
      "%4|1702552906.390|REQTMOUT|rdkafka#consumer-2| [thrd:GroupCoordinator]: GroupCoordinator/3: Timed out 1 in-flight, 0 retry-queued, 0 out-queue, 0 partially-sent requests\n",
      "%3|1702552906.390|FAIL|rdkafka#consumer-2| [thrd:GroupCoordinator]: GroupCoordinator: b-3.monstercluster1.6xql65.c3.kafka.eu-west-2.amazonaws.com:9092: 1 request(s) timed out: disconnect (after 5997ms in state UP)\n"
     ]
    }
   ],
   "source": [
    "from confluent_kafka import Consumer, KafkaError\n",
    "from datetime import datetime, timedelta\n",
    "import json  # Assuming the message is in JSON format\n",
    "\n",
    "conf = {\n",
    "    'bootstrap.servers': 'b-1.monstercluster1.6xql65.c3.kafka.eu-west-2.amazonaws.com:9092',  \n",
    "    'group.id': 'your_group_id',\n",
    "    'auto.offset.reset': 'earliest',\n",
    "}\n",
    "\n",
    "consumer = Consumer(conf)\n",
    "\n",
    "def consume_message():\n",
    "    consumer.subscribe(['monster-damage'])\n",
    "    while True:\n",
    "        msg = consumer.poll(1.0)\n",
    "        if msg is None or msg.error():\n",
    "            if msg and msg.error().code() == KafkaError._PARTITION_EOF:\n",
    "                continue\n",
    "            else:\n",
    "                break\n",
    "        else:\n",
    "            yield msg.value().decode('utf-8')\n",
    "\n",
    "try:\n",
    "\n",
    "    current_window_start = datetime.now()\n",
    "    current_window_end = current_window_start + timedelta(minutes=10)\n",
    "    window_data = []\n",
    "\n",
    "    for message in consume_message():\n",
    "        data = json.loads(message)\n",
    "        print(\"Data\", data)\n",
    "        timestamp = datetime.strptime(data['ts'], '%Y-%m-%d %H:%M:%S.%f')\n",
    "        \n",
    "        if current_window_start <= timestamp < current_window_end:\n",
    "            window_data.append(data)\n",
    "        else:\n",
    "            continent_counts = {}\n",
    "            for entry in window_data:\n",
    "                continent = entry['continent']\n",
    "                continent_counts[continent] = continent_counts.get(continent, 0) + 1\n",
    "\n",
    "            print(f\"Monsters from {current_window_start} to {current_window_end}:\")\n",
    "            for continent, count in continent_counts.items():\n",
    "                print(f\"{continent}: {count} monsters\")\n",
    "\n",
    "            current_window_start = current_window_end\n",
    "            current_window_end = current_window_start + timedelta(minutes=10)\n",
    "            window_data = [data]\n",
    "\n",
    "finally:\n",
    "    consumer.close()"
   ]
  }
 ],
 "metadata": {
  "kernelspec": {
   "display_name": "Python 3",
   "language": "python",
   "name": "python3"
  },
  "language_info": {
   "codemirror_mode": {
    "name": "ipython",
    "version": 3
   },
   "file_extension": ".py",
   "mimetype": "text/x-python",
   "name": "python",
   "nbconvert_exporter": "python",
   "pygments_lexer": "ipython3",
   "version": "3.7.16"
  }
 },
 "nbformat": 4,
 "nbformat_minor": 2
}
